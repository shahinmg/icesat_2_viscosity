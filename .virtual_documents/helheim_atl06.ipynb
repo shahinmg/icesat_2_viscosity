import icepyx as ipx

import numpy as np
import xarray as xr
import pandas as pd

import h5py
import os,json
import geopandas as gpd
from shapely.geometry import box
import pprint 
import matplotlib.pyplot as plt


box = gpd.read_file('/media/laserglaciers/upernavik/atlas_methods/geoms/rock_box.gpkg')
bounds = box.bounds
bounds


bounds_list = list(bounds.to_numpy()[0])


region_a = ipx.Query('ATL06',bounds_list,['2023-05-01','2023-08-01'], \
                           start_time='00:00:00', end_time='23:59:59')

region_a.show_custom_options(dictview=True)


region_a.order_granules()# <-- you do not need to include the 'Coverage' kwarg to
                             # order if you have already included it i


region_a.download_granules('/media/laserglaciers/upernavik/atlas_methods/icesat_2_data/atl06_data') # <-- you do not need to include the 'Coverage' kwarg to
                             # download if you have already submitted it with your order


fn = '/media/laserglaciers/upernavik/atlas_methods/icesat_2_data/atl06_data/processed_ATL06_20230718064741_04292003_006_02.h5'


varname = 'latitude'

varlist = []
def IS2h5walk(vname, h5node):
    if isinstance(h5node, h5py.Dataset):
        varlist.append(vname)
    return 

with h5py.File(fn,'r') as h5pt:
    h5pt.visititems(IS2h5walk)
    
for tvar in varlist:
    vpath,vn = os.path.split(tvar)
    if vn==varname: print(tvar) 


region_a.order_vars.parse_var_list(region_a.order_vars.avail)[0][varname]


reader = ipx.Read(fn)


reader.vars.append(beam_list=['gt1l', 'gt1r', 'gt2l', 'gt2r', 'gt3l','gt3r'], var_list=['h_li', "latitude", "longitude"])


ds = reader.load()
ds


ds.plot.scatter(x="longitude", y="latitude", hue="h_li", vmin=-100, vmax=2000)


plt.show()


fig, ax = plt.subplots()


#get gt2
gt2l = ds.sel(spot=3)
gt2r = ds.sel(spot=4)



gt2l.h_li.plot()
plt.show()


gt2r.h_li.plot()
plt.show()


fn2 = '/media/laserglaciers/upernavik/atlas_methods/icesat_2_data/atl06_data/processed_ATL06_20230603213012_11381905_006_02.h5'


reader2 = ipx.Read(fn2)
reader2.vars.append(beam_list=['gt1l', 'gt1r', 'gt2l', 'gt2r', 'gt3l','gt3r'], var_list=['h_li', "latitude", "longitude"])


ds2 = reader2.load()
ds2


#get gt2
gt2l_2 = ds2.sel(spot=3)
gt2r_2 = ds2.sel(spot=4)



fig, ax  = plt.subplots()

ax.plot(gt2l_2.latitude[0,:], gt2l_2.h_li[0,:])


fig


gt2l_2.latitude


gt2l_2_lat = gt2l_2.latitude[0,:]
gt2l_2_lon = gt2l_2.longitude[0,:]
gt2l_2_h_li = gt2l_2.h_li[0,:]


from shapely.geometry import Point
import shapely


gt2l_2_lat.data.shape
points = gpd.points_from_xy(x=gt2l_2_lon.data, y=gt2l_2_lat.data,  crs='4326')


gdf = gpd.GeoDataFrame(geometry=points, crs='4326')


gdf['h_li'] = gt2l_2_h_li


out_gpkg = '/media/laserglaciers/upernavik/atlas_methods/icesat_2_data/atl06_data/gpkgs/processed_ATL06_20230603213012_11381905_006_02.gpkg'


gdf.to_file(out_gpkg, driver='GPKG')


gdf.dropna()


list(range(1,7))


ds2.sel(spot=1).gt.data[0]


gt1_l_path = '/media/laserglaciers/upernavik/atlas_methods/icesat_2_data/atl06_data/gpkgs/processed_ATL06_20230603213012_11381905_006_02_gt1l.gpkg'
gt1_l_df = gpd.read_file(gt1_l_path)


gt1_l_df


fig, ax = plt.subplots()
ax.plot(gt1_l_df.geometry.x, gt1_l_df['h_li'])
plt.show()



